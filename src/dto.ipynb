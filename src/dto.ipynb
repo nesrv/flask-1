{
 "cells": [
  {
   "cell_type": "code",
   "execution_count": 8,
   "metadata": {},
   "outputs": [],
   "source": [
    "from sqlalchemy import select, func, and_, or_, Integer\n",
    "from sqlalchemy.orm import selectinload\n",
    "\n",
    "from models import WorkersORM, ResumesORM, Workload\n",
    "from schemas import ResumesDTO, ResumesRelDTO, WorkersDTO, WorkersRelDTO\n",
    "from database import session_factory, sync_engine\n",
    "\n",
    "from pydantic import BaseModel"
   ]
  },
  {
   "cell_type": "markdown",
   "metadata": {},
   "source": [
    "#### Без relationship"
   ]
  },
  {
   "cell_type": "code",
   "execution_count": 9,
   "metadata": {},
   "outputs": [
    {
     "name": "stdout",
     "output_type": "stream",
     "text": [
      "2024-05-24 09:33:26,336 INFO sqlalchemy.engine.Engine BEGIN (implicit)\n",
      "2024-05-24 09:33:26,337 INFO sqlalchemy.engine.Engine SELECT workers.id, workers.username \n",
      "FROM workers \n",
      " LIMIT %(param_1)s::INTEGER\n",
      "2024-05-24 09:33:26,339 INFO sqlalchemy.engine.Engine [cached since 346.5s ago] {'param_1': 2}\n",
      "result_orm=[<models.WorkersORM object at 0x0000014D62F86650>, <models.WorkersORM object at 0x0000014D62F86590>]\n",
      "result_dto=[WorkersDTO(username='Jack', id=1), WorkersDTO(username='Misha', id=2)]\n",
      "2024-05-24 09:33:26,340 INFO sqlalchemy.engine.Engine ROLLBACK\n"
     ]
    }
   ],
   "source": [
    "with session_factory() as session:\n",
    "    query = (\n",
    "        select(WorkersORM)\n",
    "        .limit(2)\n",
    "    )\n",
    "\n",
    "    res = session.execute(query)\n",
    "    result_orm = res.scalars().all()\n",
    "    print(f\"{result_orm=}\")\n",
    "    result_dto = [WorkersDTO.model_validate(row, from_attributes=True) for row in result_orm]\n",
    "    print(f\"{result_dto=}\")"
   ]
  },
  {
   "cell_type": "markdown",
   "metadata": {},
   "source": [
    "#### C relationship"
   ]
  },
  {
   "cell_type": "code",
   "execution_count": 12,
   "metadata": {},
   "outputs": [
    {
     "ename": "AttributeError",
     "evalue": "type object 'WorkersORM' has no attribute 'resumes'",
     "output_type": "error",
     "traceback": [
      "\u001b[1;31m---------------------------------------------------------------------------\u001b[0m",
      "\u001b[1;31mAttributeError\u001b[0m                            Traceback (most recent call last)",
      "Cell \u001b[1;32mIn[12], line 4\u001b[0m\n\u001b[0;32m      1\u001b[0m \u001b[38;5;28;01mwith\u001b[39;00m session_factory() \u001b[38;5;28;01mas\u001b[39;00m session:\n\u001b[0;32m      2\u001b[0m     query \u001b[38;5;241m=\u001b[39m (\n\u001b[0;32m      3\u001b[0m         select(WorkersORM)\n\u001b[1;32m----> 4\u001b[0m         \u001b[38;5;241m.\u001b[39moptions(selectinload(\u001b[43mWorkersORM\u001b[49m\u001b[38;5;241;43m.\u001b[39;49m\u001b[43mresumes\u001b[49m))\n\u001b[0;32m      5\u001b[0m         \u001b[38;5;241m.\u001b[39mlimit(\u001b[38;5;241m2\u001b[39m)\n\u001b[0;32m      6\u001b[0m     )\n\u001b[0;32m      8\u001b[0m     res \u001b[38;5;241m=\u001b[39m session\u001b[38;5;241m.\u001b[39mexecute(query)\n\u001b[0;32m      9\u001b[0m     result_orm \u001b[38;5;241m=\u001b[39m res\u001b[38;5;241m.\u001b[39mscalars()\u001b[38;5;241m.\u001b[39mall()\n",
      "\u001b[1;31mAttributeError\u001b[0m: type object 'WorkersORM' has no attribute 'resumes'"
     ]
    }
   ],
   "source": [
    "with session_factory() as session:\n",
    "    query = (\n",
    "        select(WorkersORM)\n",
    "        .options(selectinload(WorkersORM.resumes))\n",
    "        .limit(2)\n",
    "    )\n",
    "\n",
    "    res = session.execute(query)\n",
    "    result_orm = res.scalars().all()\n",
    "    print(f\"{result_orm=}\")\n",
    "    result_dto = [WorkersRelDTO.model_validate(row, from_attributes=True) for row in result_orm]\n",
    "    print(f\"{result_dto=}\")"
   ]
  },
  {
   "cell_type": "markdown",
   "metadata": {},
   "source": [
    "#### JOIN"
   ]
  },
  {
   "cell_type": "code",
   "execution_count": 10,
   "metadata": {},
   "outputs": [],
   "source": [
    "class WorkloadAvgCompensationDTO(BaseModel):\n",
    "    workload: Workload\n",
    "    avg_compensation: int"
   ]
  },
  {
   "cell_type": "code",
   "execution_count": 11,
   "metadata": {},
   "outputs": [
    {
     "name": "stdout",
     "output_type": "stream",
     "text": [
      "2024-05-24 09:33:59,850 INFO sqlalchemy.engine.Engine BEGIN (implicit)\n",
      "2024-05-24 09:33:59,854 INFO sqlalchemy.engine.Engine SELECT resumes.workload, CAST(avg(resumes.compensation) AS INTEGER) AS avg_compensation \n",
      "FROM resumes \n",
      "WHERE (resumes.title LIKE '%%' || %(title_1)s::VARCHAR || '%%') AND resumes.compensation > %(compensation_1)s::INTEGER GROUP BY resumes.workload \n",
      "HAVING avg(resumes.compensation) > %(avg_1)s::INTEGER\n",
      "2024-05-24 09:33:59,855 INFO sqlalchemy.engine.Engine [generated in 0.00095s] {'title_1': 'Python', 'compensation_1': 40000, 'avg_1': 70000}\n",
      "result_orm=[]\n",
      "result_dto=[]\n",
      "2024-05-24 09:33:59,862 INFO sqlalchemy.engine.Engine ROLLBACK\n"
     ]
    }
   ],
   "source": [
    "with session_factory() as session:\n",
    "    query = (\n",
    "        select(\n",
    "            ResumesORM.workload,\n",
    "            func.avg(ResumesORM.compensation).cast(Integer).label(\"avg_compensation\"),\n",
    "        )\n",
    "        .select_from(ResumesORM)\n",
    "        .filter(and_(\n",
    "            ResumesORM.title.contains(\"Python\"),\n",
    "            ResumesORM.compensation > 40000,\n",
    "        ))\n",
    "        .group_by(ResumesORM.workload)\n",
    "        .having(func.avg(ResumesORM.compensation) > 70000)\n",
    "    )\n",
    "    res = session.execute(query)\n",
    "    result_orm = res.all()\n",
    "    print(f\"{result_orm=}\")\n",
    "    result_dto = [WorkloadAvgCompensationDTO.model_validate(row, from_attributes=True) for row in result_orm]\n",
    "    print(f\"{result_dto=}\")"
   ]
  }
 ],
 "metadata": {
  "kernelspec": {
   "display_name": "venv",
   "language": "python",
   "name": "python3"
  },
  "language_info": {
   "codemirror_mode": {
    "name": "ipython",
    "version": 3
   },
   "file_extension": ".py",
   "mimetype": "text/x-python",
   "name": "python",
   "nbconvert_exporter": "python",
   "pygments_lexer": "ipython3",
   "version": "3.11.4"
  }
 },
 "nbformat": 4,
 "nbformat_minor": 2
}
